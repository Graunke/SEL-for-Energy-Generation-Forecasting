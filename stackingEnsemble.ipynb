{
 "cells": [
  {
   "cell_type": "code",
   "execution_count": 67,
   "id": "9b4e54d2",
   "metadata": {},
   "outputs": [],
   "source": [
    "#Imports\n",
    "from sklearn.ensemble import StackingRegressor\n",
    "from sklearn.pipeline import make_pipeline\n",
    "from sklearn.preprocessing import StandardScaler\n",
    "from sklearn.neural_network import MLPRegressor\n",
    "from sklearn.svm import LinearSVR\n",
    "from sklearn.linear_model import SGDRegressor, Ridge\n",
    "from sklearn.metrics import mean_absolute_percentage_error, mean_squared_error, r2_score\n",
    "\n",
    "import pandas as pd\n",
    "import numpy as np"
   ]
  },
  {
   "cell_type": "code",
   "execution_count": 27,
   "id": "b3c29a68",
   "metadata": {},
   "outputs": [],
   "source": [
    "#settings\n",
    "TRAIN_SZ = 0.7\n",
    "VAL_SZ = 0.15\n",
    "TEST_SZ = 0.15\n",
    "FOLD_SZ = 4\n",
    "LAGS_SZ = 6\n",
    "H_FORECAST = 1\n",
    "L_RATE = 0.005"
   ]
  },
  {
   "cell_type": "code",
   "execution_count": 28,
   "id": "650807c3",
   "metadata": {},
   "outputs": [
    {
     "name": "stderr",
     "output_type": "stream",
     "text": [
      "C:\\Users\\mateu\\AppData\\Local\\Temp\\ipykernel_17304\\1839656982.py:25: SettingWithCopyWarning: \n",
      "A value is trying to be set on a copy of a slice from a DataFrame.\n",
      "Try using .loc[row_indexer,col_indexer] = value instead\n",
      "\n",
      "See the caveats in the documentation: https://pandas.pydata.org/pandas-docs/stable/user_guide/indexing.html#returning-a-view-versus-a-copy\n",
      "  train_set['val_geracao_norm'] = scaler.fit_transform(train_set[['val_geracao']])\n",
      "C:\\Users\\mateu\\AppData\\Local\\Temp\\ipykernel_17304\\1839656982.py:26: SettingWithCopyWarning: \n",
      "A value is trying to be set on a copy of a slice from a DataFrame.\n",
      "Try using .loc[row_indexer,col_indexer] = value instead\n",
      "\n",
      "See the caveats in the documentation: https://pandas.pydata.org/pandas-docs/stable/user_guide/indexing.html#returning-a-view-versus-a-copy\n",
      "  train_set['val_cargaenergiamwmed_norm'] = scaler.fit_transform(train_set[['val_cargaenergiamwmed']])\n",
      "C:\\Users\\mateu\\AppData\\Local\\Temp\\ipykernel_17304\\1839656982.py:27: SettingWithCopyWarning: \n",
      "A value is trying to be set on a copy of a slice from a DataFrame.\n",
      "Try using .loc[row_indexer,col_indexer] = value instead\n",
      "\n",
      "See the caveats in the documentation: https://pandas.pydata.org/pandas-docs/stable/user_guide/indexing.html#returning-a-view-versus-a-copy\n",
      "  train_set['month_norm'] = scaler.fit_transform(train_set[['month']])\n",
      "C:\\Users\\mateu\\AppData\\Local\\Temp\\ipykernel_17304\\1839656982.py:28: SettingWithCopyWarning: \n",
      "A value is trying to be set on a copy of a slice from a DataFrame.\n",
      "Try using .loc[row_indexer,col_indexer] = value instead\n",
      "\n",
      "See the caveats in the documentation: https://pandas.pydata.org/pandas-docs/stable/user_guide/indexing.html#returning-a-view-versus-a-copy\n",
      "  train_set['weekday_norm'] = scaler.fit_transform(train_set[['weekday']])\n"
     ]
    }
   ],
   "source": [
    "#Data preprocessing\n",
    "\n",
    "#Consumption dataframe\n",
    "df_consumo = pd.read_csv(r\"consumo_energia.csv\")\n",
    "df_consumo['date'] = pd.to_datetime(df_consumo['din_instante'])\n",
    "df_consumo.set_index('date', inplace=True)\n",
    "df_consumo.sort_index(inplace=True)\n",
    "df_consumo.drop(['id_subsistema'],axis=1)\n",
    "\n",
    "#Generation dataframe\n",
    "df_geracao = pd.read_csv(r\"geracao_energia.csv\")\n",
    "df_geracao['date'] = pd.to_datetime(df_geracao['index'])\n",
    "df_geracao.set_index('date', inplace=True)\n",
    "df_geracao['month'] = df_geracao.index.month\n",
    "df_geracao['weekday'] = df_geracao.index.weekday\n",
    "df_geracao.sort_index(inplace=True)\n",
    "merged_df = pd.merge(df_geracao, df_consumo, on='date')\n",
    "\n",
    "df = merged_df\n",
    "df = df[['index', 'month', 'weekday', 'val_geracao', 'val_cargaenergiamwmed']]\n",
    "train_set = df\n",
    "\n",
    "#Z-Score Standarization\n",
    "scaler = StandardScaler()\n",
    "train_set['val_geracao_norm'] = scaler.fit_transform(train_set[['val_geracao']])\n",
    "train_set['val_cargaenergiamwmed_norm'] = scaler.fit_transform(train_set[['val_cargaenergiamwmed']])\n",
    "train_set['month_norm'] = scaler.fit_transform(train_set[['month']])\n",
    "train_set['weekday_norm'] = scaler.fit_transform(train_set[['weekday']])\n",
    "\n",
    "#defininf dependent and idependent variables\n",
    "predictors = train_set[['month_norm','weekday_norm','val_geracao_norm','val_cargaenergiamwmed_norm']]\n",
    "predicted = predictors[['val_geracao_norm']]\n",
    "\n",
    "\n",
    "#Creating sequences\n",
    "X, y = [], []\n",
    "data_np = predictors.to_numpy()\n",
    "pred_np = predicted.to_numpy()\n",
    "for i in range(len(data_np) - LAGS_SZ - H_FORECAST + 1):\n",
    "    X.append(data_np[i:i+LAGS_SZ])\n",
    "    y.append(pred_np[i+LAGS_SZ:i+LAGS_SZ+H_FORECAST])\n",
    "\n",
    "X = np.array(X)\n",
    "y = np.array(y)"
   ]
  },
  {
   "cell_type": "code",
   "execution_count": null,
   "id": "097dcf74",
   "metadata": {},
   "outputs": [],
   "source": [
    "#Data set spliting\n",
    "split_idx = int(0.8 * len(X))\n",
    "X_train, X_test = X[:split_idx], X[split_idx:]\n",
    "y_train, y_test = y[:split_idx], y[split_idx:]\n",
    "\n",
    "\n",
    "X_train_flat = X_train.reshape((X_train.shape[0], -1))\n",
    "X_test_flat  = X_test.reshape((X_test.shape[0], -1))\n",
    "y_train_flat = y_train[:, 0]\n",
    "y_test_flat = y_test[:, 0]\n"
   ]
  },
  {
   "cell_type": "code",
   "execution_count": 63,
   "id": "fc47ad50",
   "metadata": {},
   "outputs": [],
   "source": [
    "#Stacking modeling\n",
    "estimetors = [\n",
    "    ('MLP', make_pipeline(StandardScaler(), MLPRegressor(alpha=1, max_iter=100))),\n",
    "    ('SVR', make_pipeline(StandardScaler(),LinearSVR(random_state=42,max_iter=100))),\n",
    "    ('SDG', make_pipeline(StandardScaler(),SGDRegressor()))\n",
    "]\n",
    "reg = StackingRegressor(estimators=estimetors, final_estimator=Ridge())"
   ]
  },
  {
   "cell_type": "code",
   "execution_count": null,
   "id": "83339666",
   "metadata": {},
   "outputs": [
    {
     "name": "stderr",
     "output_type": "stream",
     "text": [
      "c:\\Users\\mateu\\OneDrive\\Área de Trabalho\\MESTRADO_2025\\PPREVISÃO DE SERIES TEMPORAIS\\SEL-for-Energy-Generation-Forecasting\\sel\\lib\\site-packages\\sklearn\\ensemble\\_stacking.py:1041: DataConversionWarning: A column-vector y was passed when a 1d array was expected. Please change the shape of y to (n_samples, ), for example using ravel().\n",
      "  y = column_or_1d(y, warn=True)\n",
      "c:\\Users\\mateu\\OneDrive\\Área de Trabalho\\MESTRADO_2025\\PPREVISÃO DE SERIES TEMPORAIS\\SEL-for-Energy-Generation-Forecasting\\sel\\lib\\site-packages\\sklearn\\neural_network\\_multilayer_perceptron.py:780: ConvergenceWarning: Stochastic Optimizer: Maximum iterations (100) reached and the optimization hasn't converged yet.\n",
      "  warnings.warn(\n",
      "c:\\Users\\mateu\\OneDrive\\Área de Trabalho\\MESTRADO_2025\\PPREVISÃO DE SERIES TEMPORAIS\\SEL-for-Energy-Generation-Forecasting\\sel\\lib\\site-packages\\sklearn\\svm\\_base.py:1250: ConvergenceWarning: Liblinear failed to converge, increase the number of iterations.\n",
      "  warnings.warn(\n",
      "c:\\Users\\mateu\\OneDrive\\Área de Trabalho\\MESTRADO_2025\\PPREVISÃO DE SERIES TEMPORAIS\\SEL-for-Energy-Generation-Forecasting\\sel\\lib\\site-packages\\sklearn\\neural_network\\_multilayer_perceptron.py:780: ConvergenceWarning: Stochastic Optimizer: Maximum iterations (100) reached and the optimization hasn't converged yet.\n",
      "  warnings.warn(\n",
      "c:\\Users\\mateu\\OneDrive\\Área de Trabalho\\MESTRADO_2025\\PPREVISÃO DE SERIES TEMPORAIS\\SEL-for-Energy-Generation-Forecasting\\sel\\lib\\site-packages\\sklearn\\neural_network\\_multilayer_perceptron.py:780: ConvergenceWarning: Stochastic Optimizer: Maximum iterations (100) reached and the optimization hasn't converged yet.\n",
      "  warnings.warn(\n",
      "c:\\Users\\mateu\\OneDrive\\Área de Trabalho\\MESTRADO_2025\\PPREVISÃO DE SERIES TEMPORAIS\\SEL-for-Energy-Generation-Forecasting\\sel\\lib\\site-packages\\sklearn\\neural_network\\_multilayer_perceptron.py:780: ConvergenceWarning: Stochastic Optimizer: Maximum iterations (100) reached and the optimization hasn't converged yet.\n",
      "  warnings.warn(\n",
      "c:\\Users\\mateu\\OneDrive\\Área de Trabalho\\MESTRADO_2025\\PPREVISÃO DE SERIES TEMPORAIS\\SEL-for-Energy-Generation-Forecasting\\sel\\lib\\site-packages\\sklearn\\neural_network\\_multilayer_perceptron.py:780: ConvergenceWarning: Stochastic Optimizer: Maximum iterations (100) reached and the optimization hasn't converged yet.\n",
      "  warnings.warn(\n",
      "c:\\Users\\mateu\\OneDrive\\Área de Trabalho\\MESTRADO_2025\\PPREVISÃO DE SERIES TEMPORAIS\\SEL-for-Energy-Generation-Forecasting\\sel\\lib\\site-packages\\sklearn\\neural_network\\_multilayer_perceptron.py:780: ConvergenceWarning: Stochastic Optimizer: Maximum iterations (100) reached and the optimization hasn't converged yet.\n",
      "  warnings.warn(\n",
      "c:\\Users\\mateu\\OneDrive\\Área de Trabalho\\MESTRADO_2025\\PPREVISÃO DE SERIES TEMPORAIS\\SEL-for-Energy-Generation-Forecasting\\sel\\lib\\site-packages\\sklearn\\svm\\_base.py:1250: ConvergenceWarning: Liblinear failed to converge, increase the number of iterations.\n",
      "  warnings.warn(\n",
      "c:\\Users\\mateu\\OneDrive\\Área de Trabalho\\MESTRADO_2025\\PPREVISÃO DE SERIES TEMPORAIS\\SEL-for-Energy-Generation-Forecasting\\sel\\lib\\site-packages\\sklearn\\svm\\_base.py:1250: ConvergenceWarning: Liblinear failed to converge, increase the number of iterations.\n",
      "  warnings.warn(\n",
      "c:\\Users\\mateu\\OneDrive\\Área de Trabalho\\MESTRADO_2025\\PPREVISÃO DE SERIES TEMPORAIS\\SEL-for-Energy-Generation-Forecasting\\sel\\lib\\site-packages\\sklearn\\svm\\_base.py:1250: ConvergenceWarning: Liblinear failed to converge, increase the number of iterations.\n",
      "  warnings.warn(\n",
      "c:\\Users\\mateu\\OneDrive\\Área de Trabalho\\MESTRADO_2025\\PPREVISÃO DE SERIES TEMPORAIS\\SEL-for-Energy-Generation-Forecasting\\sel\\lib\\site-packages\\sklearn\\svm\\_base.py:1250: ConvergenceWarning: Liblinear failed to converge, increase the number of iterations.\n",
      "  warnings.warn(\n",
      "c:\\Users\\mateu\\OneDrive\\Área de Trabalho\\MESTRADO_2025\\PPREVISÃO DE SERIES TEMPORAIS\\SEL-for-Energy-Generation-Forecasting\\sel\\lib\\site-packages\\sklearn\\svm\\_base.py:1250: ConvergenceWarning: Liblinear failed to converge, increase the number of iterations.\n",
      "  warnings.warn(\n"
     ]
    }
   ],
   "source": [
    "#Stacking training\n",
    "reg.fit(X_train_flat, y_train_flat)\n",
    "score = reg.score(X_test_flat, y_test_flat)"
   ]
  },
  {
   "cell_type": "code",
   "execution_count": null,
   "id": "4368449f",
   "metadata": {},
   "outputs": [
    {
     "name": "stderr",
     "output_type": "stream",
     "text": [
      "c:\\Users\\mateu\\OneDrive\\Área de Trabalho\\MESTRADO_2025\\PPREVISÃO DE SERIES TEMPORAIS\\SEL-for-Energy-Generation-Forecasting\\sel\\lib\\site-packages\\sklearn\\neural_network\\_multilayer_perceptron.py:1770: DataConversionWarning: A column-vector y was passed when a 1d array was expected. Please change the shape of y to (n_samples, ), for example using ravel().\n",
      "  y = column_or_1d(y, warn=True)\n"
     ]
    },
    {
     "name": "stdout",
     "output_type": "stream",
     "text": [
      "Score MLP = 0.7310684480880978\n",
      "Score SVR = 0.7194324966950493\n",
      "Score SDG = 0.7297061796913545\n",
      "Score Stacking = 0.7441126774300452\n"
     ]
    },
    {
     "name": "stderr",
     "output_type": "stream",
     "text": [
      "c:\\Users\\mateu\\OneDrive\\Área de Trabalho\\MESTRADO_2025\\PPREVISÃO DE SERIES TEMPORAIS\\SEL-for-Energy-Generation-Forecasting\\sel\\lib\\site-packages\\sklearn\\neural_network\\_multilayer_perceptron.py:780: ConvergenceWarning: Stochastic Optimizer: Maximum iterations (100) reached and the optimization hasn't converged yet.\n",
      "  warnings.warn(\n",
      "c:\\Users\\mateu\\OneDrive\\Área de Trabalho\\MESTRADO_2025\\PPREVISÃO DE SERIES TEMPORAIS\\SEL-for-Energy-Generation-Forecasting\\sel\\lib\\site-packages\\sklearn\\utils\\validation.py:1406: DataConversionWarning: A column-vector y was passed when a 1d array was expected. Please change the shape of y to (n_samples, ), for example using ravel().\n",
      "  y = column_or_1d(y, warn=True)\n",
      "c:\\Users\\mateu\\OneDrive\\Área de Trabalho\\MESTRADO_2025\\PPREVISÃO DE SERIES TEMPORAIS\\SEL-for-Energy-Generation-Forecasting\\sel\\lib\\site-packages\\sklearn\\svm\\_base.py:1250: ConvergenceWarning: Liblinear failed to converge, increase the number of iterations.\n",
      "  warnings.warn(\n",
      "c:\\Users\\mateu\\OneDrive\\Área de Trabalho\\MESTRADO_2025\\PPREVISÃO DE SERIES TEMPORAIS\\SEL-for-Energy-Generation-Forecasting\\sel\\lib\\site-packages\\sklearn\\utils\\validation.py:1406: DataConversionWarning: A column-vector y was passed when a 1d array was expected. Please change the shape of y to (n_samples, ), for example using ravel().\n",
      "  y = column_or_1d(y, warn=True)\n"
     ]
    }
   ],
   "source": [
    "#Stacking and individual comparison\n",
    "mlp_reg = make_pipeline(StandardScaler(), MLPRegressor(alpha=1, max_iter=100))\n",
    "mlp_reg.fit(X_train_flat, y_train_flat)\n",
    "score_mlp = mlp_reg.score(X_test_flat, y_test_flat)\n",
    "\n",
    "svr_reg = make_pipeline(StandardScaler(),LinearSVR(random_state=42,max_iter=100))\n",
    "svr_reg.fit(X_train_flat, y_train_flat)\n",
    "score_svr = svr_reg.score(X_test_flat, y_test_flat)\n",
    "\n",
    "sdg_reg = make_pipeline(StandardScaler(),SGDRegressor())\n",
    "sdg_reg.fit(X_train_flat, y_train_flat)\n",
    "score_sdg = sdg_reg.score(X_test_flat, y_test_flat)\n",
    "\n",
    "print(f\"Score MLP = {score_mlp}\")\n",
    "print(f\"Score SVR = {score_svr}\")\n",
    "print(f\"Score SDG = {score_sdg}\")\n",
    "print(f\"Score Stacking = {score}\")"
   ]
  }
 ],
 "metadata": {
  "kernelspec": {
   "display_name": "sel",
   "language": "python",
   "name": "python3"
  },
  "language_info": {
   "codemirror_mode": {
    "name": "ipython",
    "version": 3
   },
   "file_extension": ".py",
   "mimetype": "text/x-python",
   "name": "python",
   "nbconvert_exporter": "python",
   "pygments_lexer": "ipython3",
   "version": "3.10.11"
  }
 },
 "nbformat": 4,
 "nbformat_minor": 5
}
