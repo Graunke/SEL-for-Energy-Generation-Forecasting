{
 "cells": [
  {
   "cell_type": "code",
   "execution_count": 9,
   "id": "b3f2149d",
   "metadata": {},
   "outputs": [],
   "source": [
    "import pandas as pd\n",
    "import matplotlib.pyplot as plt\n",
    "import numpy as np\n",
    "import ydata_profiling as yp\n",
    "from statsmodels.graphics.tsaplots import plot_acf, plot_pacf\n",
    "from statsmodels.tsa.seasonal import seasonal_decompose"
   ]
  },
  {
   "cell_type": "code",
   "execution_count": null,
   "id": "9a3f6265",
   "metadata": {},
   "outputs": [],
   "source": [
    "#Consumption dataframe\n",
    "df_consumo = pd.read_csv(r\"consumo_energia.csv\")\n",
    "df_consumo['date'] = pd.to_datetime(df_consumo['din_instante'])\n",
    "df_consumo.set_index('date', inplace=True)\n",
    "df_consumo.sort_index(inplace=True)\n",
    "df_consumo.drop(['id_subsistema'],axis=1)\n",
    "\n",
    "#Generation dataframe\n",
    "df_geracao = pd.read_csv(r\"geracao_energia.csv\")\n",
    "df_geracao['date'] = pd.to_datetime(df_geracao['index'])\n",
    "df_geracao.set_index('date', inplace=True)\n",
    "df_geracao['month'] = df_geracao.index.month\n",
    "df_geracao['weekday'] = df_geracao.index.weekday\n",
    "df_geracao.sort_index(inplace=True)\n",
    "merged_df = pd.merge(df_geracao, df_consumo, on='date')\n"
   ]
  }
 ],
 "metadata": {
  "kernelspec": {
   "display_name": "sel",
   "language": "python",
   "name": "python3"
  },
  "language_info": {
   "codemirror_mode": {
    "name": "ipython",
    "version": 3
   },
   "file_extension": ".py",
   "mimetype": "text/x-python",
   "name": "python",
   "nbconvert_exporter": "python",
   "pygments_lexer": "ipython3",
   "version": "3.10.11"
  }
 },
 "nbformat": 4,
 "nbformat_minor": 5
}
